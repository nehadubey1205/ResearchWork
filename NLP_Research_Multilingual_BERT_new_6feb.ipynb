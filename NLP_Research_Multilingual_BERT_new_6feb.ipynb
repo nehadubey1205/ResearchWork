{
  "nbformat": 4,
  "nbformat_minor": 0,
  "metadata": {
    "colab": {
      "private_outputs": true,
      "provenance": [],
      "authorship_tag": "ABX9TyPTGVUXT6n4Eh3nL2wlhaYG",
      "include_colab_link": true
    },
    "kernelspec": {
      "name": "python3",
      "display_name": "Python 3"
    },
    "language_info": {
      "name": "python"
    },
    "accelerator": "GPU",
    "gpuClass": "standard"
  },
  "cells": [
    {
      "cell_type": "markdown",
      "metadata": {
        "id": "view-in-github",
        "colab_type": "text"
      },
      "source": [
        "<a href=\"https://colab.research.google.com/github/nehadubey1205/ResearchWork/blob/main/NLP_Research_Multilingual_BERT_new_6feb.ipynb\" target=\"_parent\"><img src=\"https://colab.research.google.com/assets/colab-badge.svg\" alt=\"Open In Colab\"/></a>"
      ]
    },
    {
      "cell_type": "code",
      "source": [
        "pip install transformers"
      ],
      "metadata": {
        "id": "AOHcZeIlzizr"
      },
      "execution_count": null,
      "outputs": []
    },
    {
      "cell_type": "code",
      "execution_count": null,
      "metadata": {
        "id": "Ss7uLtAFzCue"
      },
      "outputs": [],
      "source": [
        "import pandas as pd\n",
        "import numpy as np\n",
        "import torch\n",
        "from sklearn.model_selection import train_test_split\n",
        "from transformers import AutoTokenizer, AutoModelForSequenceClassification, Trainer, TrainingArguments\n",
        "from sklearn.metrics import accuracy_score, precision_recall_fscore_support\n"
      ]
    },
    {
      "cell_type": "code",
      "source": [
        "# Load the dataset from the CSV file\n",
        "df = pd.read_csv('/content/Bully_Sent_Emo_IEEEIC_6084.csv')"
      ],
      "metadata": {
        "id": "qlp23V_L0b0p"
      },
      "execution_count": null,
      "outputs": []
    },
    {
      "cell_type": "code",
      "source": [
        "\n",
        "\n",
        "# Split the dataset into training and testing sets\n",
        "train_df, test_df = train_test_split(df, test_size=0.1, random_state=42)\n"
      ],
      "metadata": {
        "id": "-8ZkxvBzzfxT"
      },
      "execution_count": null,
      "outputs": []
    },
    {
      "cell_type": "code",
      "source": [
        "# Load the BERT tokenizer\n",
        "tokenizer = AutoTokenizer.from_pretrained('bert-base-multilingual-cased')\n",
        "\n",
        "# Load the BERT model\n",
        "model = AutoModelForSequenceClassification.from_pretrained('bert-base-multilingual-cased', num_labels=2)\n"
      ],
      "metadata": {
        "id": "ePxdqCOjzfum"
      },
      "execution_count": null,
      "outputs": []
    },
    {
      "cell_type": "code",
      "source": [
        "# Tokenize the text messages\n",
        "train_encodings = tokenizer(list(train_df['Processed_Tweets']), truncation=True, padding=True)\n",
        "test_encodings = tokenizer(list(test_df['Processed_Tweets']), truncation=True, padding=True)\n",
        "\n",
        "# Convert the labels to numerical values\n",
        "train_labels = np.array(list(train_df['Bully_Label']))\n",
        "test_labels = np.array(list(test_df['Bully_Label']))\n"
      ],
      "metadata": {
        "id": "Sv7uiX1gzfsl"
      },
      "execution_count": null,
      "outputs": []
    },
    {
      "cell_type": "code",
      "source": [
        "# Create a PyTorch dataset from the encoded data\n",
        "class CyberbullyingDataset(torch.utils.data.Dataset):\n",
        "    def __init__(self, encodings, labels):\n",
        "        self.encodings = encodings\n",
        "        self.labels = labels\n",
        "\n",
        "    def __getitem__(self, idx):\n",
        "        item = {key: torch.tensor(val[idx]) for key, val in self.encodings.items()}\n",
        "        item['labels'] = torch.tensor(self.labels[idx])\n",
        "        return item\n",
        "\n",
        "    def __len__(self):\n",
        "        return len(self.labels)"
      ],
      "metadata": {
        "id": "YDG3ZpHL05WJ"
      },
      "execution_count": null,
      "outputs": []
    },
    {
      "cell_type": "code",
      "source": [
        "\n",
        "\n",
        "# Define a function to compute metrics\n",
        "def compute_metrics(pred):\n",
        "    labels = pred.label_ids\n",
        "    preds = pred.predictions.argmax(-1)\n",
        "    precision, recall, f1, _ = precision_recall_fscore_support(labels, preds, average='binary')\n",
        "    accuracy = accuracy_score(labels, preds)\n",
        "    return {\n",
        "        'accuracy': accuracy,\n",
        "        'f1': f1,\n",
        "        'precision': precision,\n",
        "        'recall': recall\n",
        "    }\n"
      ],
      "metadata": {
        "id": "uc1NMIgDzfqq"
      },
      "execution_count": null,
      "outputs": []
    },
    {
      "cell_type": "code",
      "source": [
        "# Create a Trainer object\n",
        "training_args = TrainingArguments(\n",
        "    output_dir='./results',\n",
        "    num_train_epochs=3,\n",
        "    per_device_train_batch_size=16,\n",
        "    per_device_eval_batch_size=64,\n",
        "    warmup_steps=500,\n",
        "    weight_decay=0.01,\n",
        "    logging_dir='./logs',\n",
        "    logging_steps=10,\n",
        "    evaluation_strategy='epoch'\n",
        ")\n",
        "\n",
        "trainer = Trainer(\n",
        "    model=model,\n",
        "    args=training_args,\n",
        "    train_dataset=CyberbullyingDataset(train_encodings, train_labels),\n",
        "    eval_dataset=CyberbullyingDataset(test_encodings, test_labels),\n",
        "    compute_metrics=compute_metrics\n",
        ")\n",
        "\n",
        "# Train the model\n",
        "trainer.train()\n"
      ],
      "metadata": {
        "id": "c2NAP0qpzfm3"
      },
      "execution_count": null,
      "outputs": []
    },
    {
      "cell_type": "code",
      "source": [
        "# Evaluate the model on the test set\n",
        "eval_result = trainer.evaluate()\n",
        "\n",
        "# Print the results\n",
        "print(f\"Accuracy: {eval_result['eval_accuracy']}\")\n",
        "print(f\"F1 Score: {eval_result['eval_f1']}\")\n",
        "print(f\"Precision: {eval_result['eval_precision']}\")\n",
        "print(f\"Recall: {eval_result['eval_recall']}\")\n"
      ],
      "metadata": {
        "id": "kHqriZTHzfkr"
      },
      "execution_count": null,
      "outputs": []
    },
    {
      "cell_type": "markdown",
      "source": [
        "#Second Approach"
      ],
      "metadata": {
        "id": "BMeooTa36TqQ"
      }
    },
    {
      "cell_type": "code",
      "source": [
        "pip install indic-transliteration"
      ],
      "metadata": {
        "id": "oD7WT0lpzfim"
      },
      "execution_count": null,
      "outputs": []
    },
    {
      "cell_type": "code",
      "source": [
        "from indic_transliteration import sanscript"
      ],
      "metadata": {
        "id": "P9SPU2t8zfgl"
      },
      "execution_count": null,
      "outputs": []
    },
    {
      "cell_type": "code",
      "source": [
        "import pandas as pd"
      ],
      "metadata": {
        "id": "oEIb8wJ_zfeo"
      },
      "execution_count": null,
      "outputs": []
    },
    {
      "cell_type": "code",
      "source": [
        "df = pd.read_csv('/content/Bully_Sent_Emo_IEEEIC_6084.csv')\n",
        "df.tail(3)"
      ],
      "metadata": {
        "id": "uFPbkpqCzfYw"
      },
      "execution_count": null,
      "outputs": []
    },
    {
      "cell_type": "code",
      "source": [
        "#replace \\n\n",
        "df['Tweets'] = df['Tweets'].str.replace('\\n', ' ')"
      ],
      "metadata": {
        "id": "7kGGt2I4zfWf"
      },
      "execution_count": null,
      "outputs": []
    },
    {
      "cell_type": "code",
      "source": [
        "df.tail(2)"
      ],
      "metadata": {
        "id": "qyC9mGo66oBZ"
      },
      "execution_count": null,
      "outputs": []
    },
    {
      "cell_type": "code",
      "source": [
        "def devnagiri_to_hinglish(devnagiri):\n",
        "    hinglish = sanscript.transliterate(devnagiri, sanscript.DEVANAGARI, sanscript.ITRANS)\n",
        "    return hinglish\n",
        "\n",
        "df['Hinglish'] = df['Tweets'].apply(devnagiri_to_hinglish)"
      ],
      "metadata": {
        "id": "9F1Tv1CJ6n9S"
      },
      "execution_count": null,
      "outputs": []
    },
    {
      "cell_type": "code",
      "source": [
        "df.tail(3)"
      ],
      "metadata": {
        "id": "7FQwbmJm6uq5"
      },
      "execution_count": null,
      "outputs": []
    },
    {
      "cell_type": "code",
      "source": [
        "# convert all text to lowercase\n",
        "df = df.applymap(lambda x: x.lower() if isinstance(x, str) else x)"
      ],
      "metadata": {
        "id": "Fdr8I08Z6zBW"
      },
      "execution_count": null,
      "outputs": []
    },
    {
      "cell_type": "code",
      "source": [
        "# extract the last column and insert it at position 2\n",
        "col_D = df.pop('Hinglish')\n",
        "df.insert(2, 'Hinglish', col_D)\n"
      ],
      "metadata": {
        "id": "uqW9BHAU60uW"
      },
      "execution_count": null,
      "outputs": []
    },
    {
      "cell_type": "code",
      "source": [
        "df.tail(7)"
      ],
      "metadata": {
        "id": "4GNP9J_u64eS"
      },
      "execution_count": null,
      "outputs": []
    },
    {
      "cell_type": "code",
      "source": [
        "#remove emoji\n",
        "import re\n",
        "import pandas as pd\n",
        "\n",
        "# Sample dataframe with emojis\n",
        "#df = pd.DataFrame({'text': ['I love 🍕 and 🍔', 'This is 🔥']})\n",
        "\n",
        "# Function to remove emojis from text\n",
        "def remove_emoji(Hinglish):\n",
        "    emoji_pattern = re.compile(\"[\"\n",
        "        u\"\\U0001F600-\\U0001F64F\"  # emoticons\n",
        "        u\"\\U0001F300-\\U0001F5FF\"  # symbols & pictographs\n",
        "        u\"\\U0001F680-\\U0001F6FF\"  # transport & map symbols\n",
        "        u\"\\U0001F1E0-\\U0001F1FF\"  # flags (iOS)\n",
        "                           \"]+\", flags=re.UNICODE)\n",
        "    return emoji_pattern.sub(r'', Hinglish)\n",
        "\n",
        "# Apply function to text column of dataframe\n",
        "df['Hinglish'] = df['Hinglish'].apply(remove_emoji)\n"
      ],
      "metadata": {
        "id": "pPL8jsed60qj"
      },
      "execution_count": null,
      "outputs": []
    },
    {
      "cell_type": "code",
      "source": [
        "df.head(5)"
      ],
      "metadata": {
        "id": "e83XSUuB8jNG"
      },
      "execution_count": null,
      "outputs": []
    },
    {
      "cell_type": "code",
      "source": [
        "df.isnull().sum()"
      ],
      "metadata": {
        "id": "02S1KxrR8uUE"
      },
      "execution_count": null,
      "outputs": []
    },
    {
      "cell_type": "code",
      "source": [
        "pip install transformers"
      ],
      "metadata": {
        "id": "0IYRuvyJ8uRp"
      },
      "execution_count": null,
      "outputs": []
    },
    {
      "cell_type": "code",
      "source": [
        "import pandas as pd\n",
        "import numpy as np\n",
        "import torch\n",
        "from sklearn.model_selection import train_test_split\n",
        "from transformers import AutoTokenizer, AutoModelForSequenceClassification, Trainer, TrainingArguments\n",
        "from sklearn.metrics import accuracy_score, precision_recall_fscore_support\n"
      ],
      "metadata": {
        "id": "ggfY_Ush8uMu"
      },
      "execution_count": null,
      "outputs": []
    },
    {
      "cell_type": "code",
      "source": [
        "# Split the dataset into training and testing sets\n",
        "train_df, test_df = train_test_split(df, test_size=0.1, random_state=42)"
      ],
      "metadata": {
        "id": "aLUI3Nh487gh"
      },
      "execution_count": null,
      "outputs": []
    },
    {
      "cell_type": "code",
      "source": [
        "# Load the BERT tokenizer\n",
        "tokenizer = AutoTokenizer.from_pretrained('bert-base-multilingual-cased')\n",
        "\n",
        "# Load the BERT model\n",
        "model = AutoModelForSequenceClassification.from_pretrained('bert-base-multilingual-cased', num_labels=2)"
      ],
      "metadata": {
        "id": "fH-dZw-887eY"
      },
      "execution_count": null,
      "outputs": []
    },
    {
      "cell_type": "code",
      "source": [
        "# Tokenize the text messages\n",
        "train_encodings = tokenizer(list(train_df['Hinglish']), truncation=True, padding=True)\n",
        "test_encodings = tokenizer(list(test_df['Hinglish']), truncation=True, padding=True)\n",
        "\n",
        "# Convert the labels to numerical values\n",
        "train_labels = np.array(list(train_df['Bully_Label']))\n",
        "test_labels = np.array(list(test_df['Bully_Label']))"
      ],
      "metadata": {
        "id": "bO9Rvch287cK"
      },
      "execution_count": null,
      "outputs": []
    },
    {
      "cell_type": "code",
      "source": [
        "# Create a PyTorch dataset from the encoded data\n",
        "class CyberbullyingDataset(torch.utils.data.Dataset):\n",
        "    def __init__(self, encodings, labels):\n",
        "        self.encodings = encodings\n",
        "        self.labels = labels\n",
        "\n",
        "    def __getitem__(self, idx):\n",
        "        item = {key: torch.tensor(val[idx]) for key, val in self.encodings.items()}\n",
        "        item['labels'] = torch.tensor(self.labels[idx])\n",
        "        return item\n",
        "\n",
        "    def __len__(self):\n",
        "        return len(self.labels)"
      ],
      "metadata": {
        "id": "nXpgYewx87Z4"
      },
      "execution_count": null,
      "outputs": []
    },
    {
      "cell_type": "code",
      "source": [
        "# Define a function to compute metrics\n",
        "def compute_metrics(pred):\n",
        "    labels = pred.label_ids\n",
        "    preds = pred.predictions.argmax(-1)\n",
        "    precision, recall, f1, _ = precision_recall_fscore_support(labels, preds, average='binary')\n",
        "    accuracy = accuracy_score(labels, preds)\n",
        "    return {\n",
        "        'accuracy': accuracy,\n",
        "        'f1': f1,\n",
        "        'precision': precision,\n",
        "        'recall': recall\n",
        "    }\n"
      ],
      "metadata": {
        "id": "-4JIvsib87XO"
      },
      "execution_count": null,
      "outputs": []
    },
    {
      "cell_type": "code",
      "source": [
        "# Create a Trainer object\n",
        "training_args = TrainingArguments(\n",
        "    output_dir='./results',\n",
        "    num_train_epochs=3,\n",
        "    per_device_train_batch_size=16,\n",
        "    per_device_eval_batch_size=64,\n",
        "    warmup_steps=500,\n",
        "    weight_decay=0.01,\n",
        "    logging_dir='./logs',\n",
        "    logging_steps=10,\n",
        "    evaluation_strategy='epoch'\n",
        ")\n",
        "\n",
        "trainer = Trainer(\n",
        "    model=model,\n",
        "    args=training_args,\n",
        "    train_dataset=CyberbullyingDataset(train_encodings, train_labels),\n",
        "    eval_dataset=CyberbullyingDataset(test_encodings, test_labels),\n",
        "    compute_metrics=compute_metrics\n",
        ")\n",
        "\n",
        "# Train the model\n",
        "trainer.train()\n"
      ],
      "metadata": {
        "id": "_UQftjav9noL"
      },
      "execution_count": null,
      "outputs": []
    },
    {
      "cell_type": "code",
      "source": [
        "# Evaluate the model on the test set\n",
        "eval_result = trainer.evaluate()\n",
        "\n",
        "# Print the results\n",
        "print(f\"Accuracy: {eval_result['eval_accuracy']}\")\n",
        "print(f\"F1 Score: {eval_result['eval_f1']}\")\n",
        "print(f\"Precision: {eval_result['eval_precision']}\")\n",
        "print(f\"Recall: {eval_result['eval_recall']}\")"
      ],
      "metadata": {
        "id": "9TLlwZoM9nl8"
      },
      "execution_count": null,
      "outputs": []
    },
    {
      "cell_type": "code",
      "source": [],
      "metadata": {
        "id": "rL-xJvcK9nh4"
      },
      "execution_count": null,
      "outputs": []
    }
  ]
}